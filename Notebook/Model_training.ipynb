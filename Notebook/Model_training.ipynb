{
 "cells": [
  {
   "cell_type": "markdown",
   "id": "63fa2074",
   "metadata": {},
   "source": [
    "### Model Trainig "
   ]
  },
  {
   "cell_type": "code",
   "execution_count": 7,
   "id": "c1638b2c",
   "metadata": {},
   "outputs": [],
   "source": [
    "import pandas as pd\n",
    "import matplotlib.pyplot as plt\n",
    "import seaborn as sns\n",
    "\n",
    "from sklearn.metrics import mean_squared_error, mean_absolute_error, r2_score\n",
    "from sklearn.model_selection import train_test_split,RandomizedSearchCV\n",
    "from sklearn.linear_model import LinearRegression,Ridge,Lasso\n",
    "from sklearn.ensemble import RandomForestRegressor,AdaBoostRegressor\n",
    "from sklearn.tree import DecisionTreeRegressor\n",
    "from catboost import CatBoostRegressor\n",
    "from xgboost import XGBRegressor\n",
    "\n",
    "import warnings\n",
    "warnings.filterwarnings(\"ignore\")"
   ]
  },
  {
   "cell_type": "code",
   "execution_count": 8,
   "id": "86719c78",
   "metadata": {},
   "outputs": [],
   "source": [
    "df=pd.read_csv('data\\StudentsPerformance.csv')"
   ]
  },
  {
   "cell_type": "code",
   "execution_count": 9,
   "id": "f0c1ff22",
   "metadata": {},
   "outputs": [
    {
     "data": {
      "text/html": [
       "<div>\n",
       "<style scoped>\n",
       "    .dataframe tbody tr th:only-of-type {\n",
       "        vertical-align: middle;\n",
       "    }\n",
       "\n",
       "    .dataframe tbody tr th {\n",
       "        vertical-align: top;\n",
       "    }\n",
       "\n",
       "    .dataframe thead th {\n",
       "        text-align: right;\n",
       "    }\n",
       "</style>\n",
       "<table border=\"1\" class=\"dataframe\">\n",
       "  <thead>\n",
       "    <tr style=\"text-align: right;\">\n",
       "      <th></th>\n",
       "      <th>gender</th>\n",
       "      <th>race/ethnicity</th>\n",
       "      <th>parental level of education</th>\n",
       "      <th>lunch</th>\n",
       "      <th>test preparation course</th>\n",
       "      <th>math score</th>\n",
       "      <th>reading score</th>\n",
       "      <th>writing score</th>\n",
       "    </tr>\n",
       "  </thead>\n",
       "  <tbody>\n",
       "    <tr>\n",
       "      <th>0</th>\n",
       "      <td>female</td>\n",
       "      <td>group B</td>\n",
       "      <td>bachelor's degree</td>\n",
       "      <td>standard</td>\n",
       "      <td>none</td>\n",
       "      <td>72</td>\n",
       "      <td>72</td>\n",
       "      <td>74</td>\n",
       "    </tr>\n",
       "    <tr>\n",
       "      <th>1</th>\n",
       "      <td>female</td>\n",
       "      <td>group C</td>\n",
       "      <td>some college</td>\n",
       "      <td>standard</td>\n",
       "      <td>completed</td>\n",
       "      <td>69</td>\n",
       "      <td>90</td>\n",
       "      <td>88</td>\n",
       "    </tr>\n",
       "    <tr>\n",
       "      <th>2</th>\n",
       "      <td>female</td>\n",
       "      <td>group B</td>\n",
       "      <td>master's degree</td>\n",
       "      <td>standard</td>\n",
       "      <td>none</td>\n",
       "      <td>90</td>\n",
       "      <td>95</td>\n",
       "      <td>93</td>\n",
       "    </tr>\n",
       "    <tr>\n",
       "      <th>3</th>\n",
       "      <td>male</td>\n",
       "      <td>group A</td>\n",
       "      <td>associate's degree</td>\n",
       "      <td>free/reduced</td>\n",
       "      <td>none</td>\n",
       "      <td>47</td>\n",
       "      <td>57</td>\n",
       "      <td>44</td>\n",
       "    </tr>\n",
       "    <tr>\n",
       "      <th>4</th>\n",
       "      <td>male</td>\n",
       "      <td>group C</td>\n",
       "      <td>some college</td>\n",
       "      <td>standard</td>\n",
       "      <td>none</td>\n",
       "      <td>76</td>\n",
       "      <td>78</td>\n",
       "      <td>75</td>\n",
       "    </tr>\n",
       "  </tbody>\n",
       "</table>\n",
       "</div>"
      ],
      "text/plain": [
       "   gender race/ethnicity parental level of education         lunch  \\\n",
       "0  female        group B           bachelor's degree      standard   \n",
       "1  female        group C                some college      standard   \n",
       "2  female        group B             master's degree      standard   \n",
       "3    male        group A          associate's degree  free/reduced   \n",
       "4    male        group C                some college      standard   \n",
       "\n",
       "  test preparation course  math score  reading score  writing score  \n",
       "0                    none          72             72             74  \n",
       "1               completed          69             90             88  \n",
       "2                    none          90             95             93  \n",
       "3                    none          47             57             44  \n",
       "4                    none          76             78             75  "
      ]
     },
     "execution_count": 9,
     "metadata": {},
     "output_type": "execute_result"
    }
   ],
   "source": [
    "df.head()"
   ]
  },
  {
   "cell_type": "code",
   "execution_count": 10,
   "id": "26af7026",
   "metadata": {},
   "outputs": [],
   "source": [
    "# Independen and and dependent variables\n",
    "X = df.drop(columns=['math score'])\n",
    "y= df['math score']"
   ]
  },
  {
   "cell_type": "code",
   "execution_count": 11,
   "id": "e0b8219f",
   "metadata": {},
   "outputs": [
    {
     "data": {
      "text/html": [
       "<div>\n",
       "<style scoped>\n",
       "    .dataframe tbody tr th:only-of-type {\n",
       "        vertical-align: middle;\n",
       "    }\n",
       "\n",
       "    .dataframe tbody tr th {\n",
       "        vertical-align: top;\n",
       "    }\n",
       "\n",
       "    .dataframe thead th {\n",
       "        text-align: right;\n",
       "    }\n",
       "</style>\n",
       "<table border=\"1\" class=\"dataframe\">\n",
       "  <thead>\n",
       "    <tr style=\"text-align: right;\">\n",
       "      <th></th>\n",
       "      <th>gender</th>\n",
       "      <th>race/ethnicity</th>\n",
       "      <th>parental level of education</th>\n",
       "      <th>lunch</th>\n",
       "      <th>test preparation course</th>\n",
       "      <th>reading score</th>\n",
       "      <th>writing score</th>\n",
       "    </tr>\n",
       "  </thead>\n",
       "  <tbody>\n",
       "    <tr>\n",
       "      <th>0</th>\n",
       "      <td>female</td>\n",
       "      <td>group B</td>\n",
       "      <td>bachelor's degree</td>\n",
       "      <td>standard</td>\n",
       "      <td>none</td>\n",
       "      <td>72</td>\n",
       "      <td>74</td>\n",
       "    </tr>\n",
       "    <tr>\n",
       "      <th>1</th>\n",
       "      <td>female</td>\n",
       "      <td>group C</td>\n",
       "      <td>some college</td>\n",
       "      <td>standard</td>\n",
       "      <td>completed</td>\n",
       "      <td>90</td>\n",
       "      <td>88</td>\n",
       "    </tr>\n",
       "    <tr>\n",
       "      <th>2</th>\n",
       "      <td>female</td>\n",
       "      <td>group B</td>\n",
       "      <td>master's degree</td>\n",
       "      <td>standard</td>\n",
       "      <td>none</td>\n",
       "      <td>95</td>\n",
       "      <td>93</td>\n",
       "    </tr>\n",
       "    <tr>\n",
       "      <th>3</th>\n",
       "      <td>male</td>\n",
       "      <td>group A</td>\n",
       "      <td>associate's degree</td>\n",
       "      <td>free/reduced</td>\n",
       "      <td>none</td>\n",
       "      <td>57</td>\n",
       "      <td>44</td>\n",
       "    </tr>\n",
       "    <tr>\n",
       "      <th>4</th>\n",
       "      <td>male</td>\n",
       "      <td>group C</td>\n",
       "      <td>some college</td>\n",
       "      <td>standard</td>\n",
       "      <td>none</td>\n",
       "      <td>78</td>\n",
       "      <td>75</td>\n",
       "    </tr>\n",
       "  </tbody>\n",
       "</table>\n",
       "</div>"
      ],
      "text/plain": [
       "   gender race/ethnicity parental level of education         lunch  \\\n",
       "0  female        group B           bachelor's degree      standard   \n",
       "1  female        group C                some college      standard   \n",
       "2  female        group B             master's degree      standard   \n",
       "3    male        group A          associate's degree  free/reduced   \n",
       "4    male        group C                some college      standard   \n",
       "\n",
       "  test preparation course  reading score  writing score  \n",
       "0                    none             72             74  \n",
       "1               completed             90             88  \n",
       "2                    none             95             93  \n",
       "3                    none             57             44  \n",
       "4                    none             78             75  "
      ]
     },
     "execution_count": 11,
     "metadata": {},
     "output_type": "execute_result"
    }
   ],
   "source": [
    "X.head()"
   ]
  },
  {
   "cell_type": "code",
   "execution_count": 12,
   "id": "8ce0735d",
   "metadata": {},
   "outputs": [
    {
     "data": {
      "text/plain": [
       "0      72\n",
       "1      69\n",
       "2      90\n",
       "3      47\n",
       "4      76\n",
       "       ..\n",
       "995    88\n",
       "996    62\n",
       "997    59\n",
       "998    68\n",
       "999    77\n",
       "Name: math score, Length: 1000, dtype: int64"
      ]
     },
     "execution_count": 12,
     "metadata": {},
     "output_type": "execute_result"
    }
   ],
   "source": [
    "y"
   ]
  },
  {
   "cell_type": "markdown",
   "id": "332954fa",
   "metadata": {},
   "source": [
    "### Creating column Transformers in 3 different ways"
   ]
  },
  {
   "cell_type": "code",
   "execution_count": 13,
   "id": "f12ecc09",
   "metadata": {},
   "outputs": [],
   "source": [
    "num_features = X.select_dtypes(include=['int64', 'float64']).columns\n",
    "cat_features = X.select_dtypes(include=['object']).columns"
   ]
  },
  {
   "cell_type": "code",
   "execution_count": 14,
   "id": "b01d842c",
   "metadata": {},
   "outputs": [
    {
     "data": {
      "text/plain": [
       "Index(['reading score', 'writing score'], dtype='object')"
      ]
     },
     "execution_count": 14,
     "metadata": {},
     "output_type": "execute_result"
    }
   ],
   "source": [
    "num_features"
   ]
  },
  {
   "cell_type": "code",
   "execution_count": 15,
   "id": "117bcde0",
   "metadata": {},
   "outputs": [
    {
     "data": {
      "text/plain": [
       "Index(['gender', 'race/ethnicity', 'parental level of education', 'lunch',\n",
       "       'test preparation course'],\n",
       "      dtype='object')"
      ]
     },
     "execution_count": 15,
     "metadata": {},
     "output_type": "execute_result"
    }
   ],
   "source": [
    "cat_features"
   ]
  },
  {
   "cell_type": "code",
   "execution_count": 16,
   "id": "abaa7e2f",
   "metadata": {},
   "outputs": [],
   "source": [
    "from sklearn.compose import ColumnTransformer\n",
    "from sklearn.preprocessing import StandardScaler, OneHotEncoder"
   ]
  },
  {
   "cell_type": "code",
   "execution_count": 17,
   "id": "bc6886d6",
   "metadata": {},
   "outputs": [],
   "source": [
    "num_transformer=StandardScaler()\n",
    "one_hot_transformer=OneHotEncoder()"
   ]
  },
  {
   "cell_type": "code",
   "execution_count": 18,
   "id": "ec73cb9a",
   "metadata": {},
   "outputs": [],
   "source": [
    "pre_processor = ColumnTransformer(\n",
    "    [\n",
    "        ('StandardScaler', num_transformer, num_features),\n",
    "        ('OneHotEncoder', one_hot_transformer, cat_features)\n",
    "    ]\n",
    ")"
   ]
  },
  {
   "cell_type": "code",
   "execution_count": 19,
   "id": "28fdff5d",
   "metadata": {},
   "outputs": [],
   "source": [
    "X=pre_processor.fit_transform(X)"
   ]
  },
  {
   "cell_type": "code",
   "execution_count": 21,
   "id": "0d7037ea",
   "metadata": {},
   "outputs": [
    {
     "data": {
      "text/plain": [
       "(1000, 19)"
      ]
     },
     "execution_count": 21,
     "metadata": {},
     "output_type": "execute_result"
    }
   ],
   "source": [
    "X.shape"
   ]
  },
  {
   "cell_type": "markdown",
   "id": "ba2b9f65",
   "metadata": {},
   "source": [
    "### Train Test Split"
   ]
  },
  {
   "cell_type": "code",
   "execution_count": 22,
   "id": "5eaaf2bf",
   "metadata": {},
   "outputs": [],
   "source": [
    "X_train, X_test, y_train, y_test = train_test_split(X, y, test_size=0.2, random_state=42)"
   ]
  },
  {
   "cell_type": "code",
   "execution_count": 24,
   "id": "3f298fde",
   "metadata": {},
   "outputs": [
    {
     "data": {
      "text/plain": [
       "(800, 19)"
      ]
     },
     "execution_count": 24,
     "metadata": {},
     "output_type": "execute_result"
    }
   ],
   "source": [
    "X_train.shape"
   ]
  },
  {
   "cell_type": "code",
   "execution_count": 25,
   "id": "959b5b30",
   "metadata": {},
   "outputs": [
    {
     "data": {
      "text/plain": [
       "(200, 19)"
      ]
     },
     "execution_count": 25,
     "metadata": {},
     "output_type": "execute_result"
    }
   ],
   "source": [
    "X_test.shape"
   ]
  },
  {
   "cell_type": "markdown",
   "id": "de3f9296",
   "metadata": {},
   "source": [
    "### Create an evaluate function to give all metrics after model training"
   ]
  },
  {
   "cell_type": "code",
   "execution_count": 26,
   "id": "921054e1",
   "metadata": {},
   "outputs": [],
   "source": [
    "def evaluate_model(true,predicted):\n",
    "    mse = mean_squared_error(true, predicted)\n",
    "    mae = mean_absolute_error(true, predicted)\n",
    "    r2 = r2_score(true, predicted)\n",
    "\n",
    "    print(f'Mean Squared Error: {mse}')\n",
    "    print(f'Mean Absolute Error: {mae}')\n",
    "    print(f'R^2 Score: {r2}')\n",
    "\n",
    "    return mse, mae, r2"
   ]
  },
  {
   "cell_type": "markdown",
   "id": "91e53589",
   "metadata": {},
   "source": [
    "### Model Training"
   ]
  },
  {
   "cell_type": "code",
   "execution_count": 27,
   "id": "da807988",
   "metadata": {},
   "outputs": [],
   "source": [
    "models={\n",
    "    \"linear regression\":LinearRegression(),\n",
    "    \"ridge regression\":Ridge(),\n",
    "    \"lasso regression\":Lasso(),\n",
    "    \"decision tree\":DecisionTreeRegressor(),\n",
    "    \"random forest\":RandomForestRegressor(),\n",
    "    \"ada boost\":AdaBoostRegressor(),\n",
    "    \"cat boost\":CatBoostRegressor(verbose=0),\n",
    "    \"xg boost\":XGBRegressor(eval_metric='rmse')\n",
    "}"
   ]
  },
  {
   "cell_type": "code",
   "execution_count": 33,
   "id": "dc188ede",
   "metadata": {},
   "outputs": [
    {
     "name": "stdout",
     "output_type": "stream",
     "text": [
      "Mean Squared Error: 28.33487038064859\n",
      "Mean Absolute Error: 4.266711846071956\n",
      "R^2 Score: 0.8743172040139593\n",
      "Mean Squared Error: 29.095169866715466\n",
      "Mean Absolute Error: 4.214763142474849\n",
      "R^2 Score: 0.8804332983749565\n",
      "--------training set-------------\n",
      "Model: linear regression\n",
      "R^2 Score: 0.8743172040139593\n",
      "Mean Squared Error: 28.33487038064859\n",
      "Mean Absolute Error: 4.266711846071956\n",
      "--------test set-------------\n",
      "Model: linear regression\n",
      "R^2 Score: 0.8804332983749565\n",
      "Mean Squared Error: 29.095169866715466\n",
      "Mean Absolute Error: 4.214763142474849\n",
      "\n",
      "\n",
      "Mean Squared Error: 28.337788233082442\n",
      "Mean Absolute Error: 4.2649878237259795\n",
      "R^2 Score: 0.8743042615212909\n",
      "Mean Squared Error: 29.05627219234827\n",
      "Mean Absolute Error: 4.211100688014259\n",
      "R^2 Score: 0.880593148502874\n",
      "--------training set-------------\n",
      "Model: ridge regression\n",
      "R^2 Score: 0.8743042615212909\n",
      "Mean Squared Error: 28.337788233082442\n",
      "Mean Absolute Error: 4.2649878237259795\n",
      "--------test set-------------\n",
      "Model: ridge regression\n",
      "R^2 Score: 0.880593148502874\n",
      "Mean Squared Error: 29.05627219234827\n",
      "Mean Absolute Error: 4.211100688014259\n",
      "\n",
      "\n",
      "Mean Squared Error: 43.47829788272618\n",
      "Mean Absolute Error: 5.206296077972952\n",
      "R^2 Score: 0.8071466723085148\n",
      "Mean Squared Error: 42.50633235127344\n",
      "Mean Absolute Error: 5.157879138921816\n",
      "R^2 Score: 0.825320079562973\n",
      "--------training set-------------\n",
      "Model: lasso regression\n",
      "R^2 Score: 0.8071466723085148\n",
      "Mean Squared Error: 43.47829788272618\n",
      "Mean Absolute Error: 5.206296077972952\n",
      "--------test set-------------\n",
      "Model: lasso regression\n",
      "R^2 Score: 0.825320079562973\n",
      "Mean Squared Error: 42.50633235127344\n",
      "Mean Absolute Error: 5.157879138921816\n",
      "\n",
      "\n",
      "Mean Squared Error: 0.078125\n",
      "Mean Absolute Error: 0.01875\n",
      "R^2 Score: 0.9996534669718089\n",
      "Mean Squared Error: 57.29\n",
      "Mean Absolute Error: 5.97\n",
      "R^2 Score: 0.7645665460116446\n",
      "--------training set-------------\n",
      "Model: decision tree\n",
      "R^2 Score: 0.9996534669718089\n",
      "Mean Squared Error: 0.078125\n",
      "Mean Absolute Error: 0.01875\n",
      "--------test set-------------\n",
      "Model: decision tree\n",
      "R^2 Score: 0.7645665460116446\n",
      "Mean Squared Error: 57.29\n",
      "Mean Absolute Error: 5.97\n",
      "\n",
      "\n",
      "Mean Squared Error: 5.239827602430555\n",
      "Mean Absolute Error: 1.822733333333333\n",
      "R^2 Score: 0.9767581014237472\n",
      "Mean Squared Error: 36.28593106597222\n",
      "Mean Absolute Error: 4.6457041666666665\n",
      "R^2 Score: 0.8508828402505637\n",
      "--------training set-------------\n",
      "Model: random forest\n",
      "R^2 Score: 0.9767581014237472\n",
      "Mean Squared Error: 5.239827602430555\n",
      "Mean Absolute Error: 1.822733333333333\n",
      "--------test set-------------\n",
      "Model: random forest\n",
      "R^2 Score: 0.8508828402505637\n",
      "Mean Squared Error: 36.28593106597222\n",
      "Mean Absolute Error: 4.6457041666666665\n",
      "\n",
      "\n",
      "Mean Squared Error: 33.37647590063996\n",
      "Mean Absolute Error: 4.756043629033132\n",
      "R^2 Score: 0.8519545438182762\n",
      "Mean Squared Error: 36.83848329742486\n",
      "Mean Absolute Error: 4.704146918314564\n",
      "R^2 Score: 0.8486121249362005\n",
      "--------training set-------------\n",
      "Model: ada boost\n",
      "R^2 Score: 0.8519545438182762\n",
      "Mean Squared Error: 33.37647590063996\n",
      "Mean Absolute Error: 4.756043629033132\n",
      "--------test set-------------\n",
      "Model: ada boost\n",
      "R^2 Score: 0.8486121249362005\n",
      "Mean Squared Error: 36.83848329742486\n",
      "Mean Absolute Error: 4.704146918314564\n",
      "\n",
      "\n",
      "Mean Squared Error: 9.257805405523678\n",
      "Mean Absolute Error: 2.405393926779502\n",
      "R^2 Score: 0.9589358676277713\n",
      "Mean Squared Error: 36.10365799356841\n",
      "Mean Absolute Error: 4.612531714976557\n",
      "R^2 Score: 0.8516318920747058\n",
      "--------training set-------------\n",
      "Model: cat boost\n",
      "R^2 Score: 0.9589358676277713\n",
      "Mean Squared Error: 9.257805405523678\n",
      "Mean Absolute Error: 2.405393926779502\n",
      "--------test set-------------\n",
      "Model: cat boost\n",
      "R^2 Score: 0.8516318920747058\n",
      "Mean Squared Error: 36.10365799356841\n",
      "Mean Absolute Error: 4.612531714976557\n",
      "\n",
      "\n",
      "Mean Squared Error: 1.0146163702011108\n",
      "Mean Absolute Error: 0.687466561794281\n",
      "R^2 Score: 0.9954995512962341\n",
      "Mean Squared Error: 43.50392150878906\n",
      "Mean Absolute Error: 5.1036295890808105\n",
      "R^2 Score: 0.8212205171585083\n",
      "--------training set-------------\n",
      "Model: xg boost\n",
      "R^2 Score: 0.9954995512962341\n",
      "Mean Squared Error: 1.0146163702011108\n",
      "Mean Absolute Error: 0.687466561794281\n",
      "--------test set-------------\n",
      "Model: xg boost\n",
      "R^2 Score: 0.8212205171585083\n",
      "Mean Squared Error: 43.50392150878906\n",
      "Mean Absolute Error: 5.1036295890808105\n",
      "\n",
      "\n"
     ]
    }
   ],
   "source": [
    "model_list = []\n",
    "r2_list = []\n",
    "for i in range(len(models)):\n",
    "    model_name = list(models.keys())[i]\n",
    "    model = list(models.values())[i]\n",
    "    \n",
    "    \n",
    "    model.fit(X_train, y_train)\n",
    "    y_pred_train = model.predict(X_train)\n",
    "    y_pred_test = model.predict(X_test)\n",
    "    mse_train, mae_train, r2_train = evaluate_model(y_train, y_pred_train)\n",
    "    mse_test, mae_test, r2_test = evaluate_model(y_test, y_pred_test)\n",
    "    \n",
    "    model_list.append(model_name)\n",
    "\n",
    "    #print Values\n",
    "    print(\"--------training set-------------\")\n",
    "    print(f\"Model: {model_name}\")\n",
    "    print(f\"R^2 Score: {r2_train}\")\n",
    "    print(f\"Mean Squared Error: {mse_train}\")\n",
    "    print(f\"Mean Absolute Error: {mae_train}\")\n",
    "\n",
    "    print(\"--------test set-------------\")\n",
    "    print(f\"Model: {model_name}\")\n",
    "    print(f\"R^2 Score: {r2_test}\")\n",
    "    print(f\"Mean Squared Error: {mse_test}\")\n",
    "    print(f\"Mean Absolute Error: {mae_test}\")\n",
    "    print(\"\\n\")\n",
    "    r2_list.append(r2_test)"
   ]
  },
  {
   "cell_type": "markdown",
   "id": "93c3c753",
   "metadata": {},
   "source": [
    "## results"
   ]
  },
  {
   "cell_type": "code",
   "execution_count": 34,
   "id": "c3dc1949",
   "metadata": {},
   "outputs": [],
   "source": [
    "df_results = pd.DataFrame({'Model': model_list, 'R^2 Score': r2_list})\n",
    "df_results.sort_values(by='R^2 Score', ascending=False, inplace=True)"
   ]
  },
  {
   "cell_type": "code",
   "execution_count": 35,
   "id": "4174123c",
   "metadata": {},
   "outputs": [
    {
     "data": {
      "text/html": [
       "<div>\n",
       "<style scoped>\n",
       "    .dataframe tbody tr th:only-of-type {\n",
       "        vertical-align: middle;\n",
       "    }\n",
       "\n",
       "    .dataframe tbody tr th {\n",
       "        vertical-align: top;\n",
       "    }\n",
       "\n",
       "    .dataframe thead th {\n",
       "        text-align: right;\n",
       "    }\n",
       "</style>\n",
       "<table border=\"1\" class=\"dataframe\">\n",
       "  <thead>\n",
       "    <tr style=\"text-align: right;\">\n",
       "      <th></th>\n",
       "      <th>Model</th>\n",
       "      <th>R^2 Score</th>\n",
       "    </tr>\n",
       "  </thead>\n",
       "  <tbody>\n",
       "    <tr>\n",
       "      <th>1</th>\n",
       "      <td>ridge regression</td>\n",
       "      <td>0.880593</td>\n",
       "    </tr>\n",
       "    <tr>\n",
       "      <th>0</th>\n",
       "      <td>linear regression</td>\n",
       "      <td>0.880433</td>\n",
       "    </tr>\n",
       "    <tr>\n",
       "      <th>6</th>\n",
       "      <td>cat boost</td>\n",
       "      <td>0.851632</td>\n",
       "    </tr>\n",
       "    <tr>\n",
       "      <th>4</th>\n",
       "      <td>random forest</td>\n",
       "      <td>0.850883</td>\n",
       "    </tr>\n",
       "    <tr>\n",
       "      <th>5</th>\n",
       "      <td>ada boost</td>\n",
       "      <td>0.848612</td>\n",
       "    </tr>\n",
       "    <tr>\n",
       "      <th>2</th>\n",
       "      <td>lasso regression</td>\n",
       "      <td>0.825320</td>\n",
       "    </tr>\n",
       "    <tr>\n",
       "      <th>7</th>\n",
       "      <td>xg boost</td>\n",
       "      <td>0.821221</td>\n",
       "    </tr>\n",
       "    <tr>\n",
       "      <th>3</th>\n",
       "      <td>decision tree</td>\n",
       "      <td>0.764567</td>\n",
       "    </tr>\n",
       "  </tbody>\n",
       "</table>\n",
       "</div>"
      ],
      "text/plain": [
       "               Model  R^2 Score\n",
       "1   ridge regression   0.880593\n",
       "0  linear regression   0.880433\n",
       "6          cat boost   0.851632\n",
       "4      random forest   0.850883\n",
       "5          ada boost   0.848612\n",
       "2   lasso regression   0.825320\n",
       "7           xg boost   0.821221\n",
       "3      decision tree   0.764567"
      ]
     },
     "execution_count": 35,
     "metadata": {},
     "output_type": "execute_result"
    }
   ],
   "source": [
    "df_results"
   ]
  },
  {
   "cell_type": "markdown",
   "id": "f16d5497",
   "metadata": {},
   "source": [
    "#### Plot y_pred_test and y_test"
   ]
  },
  {
   "cell_type": "code",
   "execution_count": 36,
   "id": "a1fb25af",
   "metadata": {},
   "outputs": [
    {
     "data": {
      "image/png": "[encoded data removed]",
      "text/plain": [
       "<Figure size 640x480 with 1 Axes>"
      ]
     },
     "metadata": {},
     "output_type": "display_data"
    }
   ],
   "source": [
    "plt.scatter(y_test, y_pred_test)\n",
    "plt.xlabel('Actual Values')\n",
    "plt.ylabel('Predicted Values')\n",
    "plt.title('Actual vs Predicted Values')\n",
    "plt.show()"
   ]
  },
  {
   "cell_type": "code",
   "execution_count": 37,
   "id": "dff71c2e",
   "metadata": {},
   "outputs": [
    {
     "data": {
      "text/plain": [
       "<Axes: xlabel='math score'>"
      ]
     },
     "execution_count": 37,
     "metadata": {},
     "output_type": "execute_result"
    },
    {
     "data": {
      "image/png": "[encoded data removed]",
      "text/plain": [
       "<Figure size 640x480 with 1 Axes>"
      ]
     },
     "metadata": {},
     "output_type": "display_data"
    }
   ],
   "source": [
    "sns.regplot(x=y_test, y=y_pred_test, line_kws={\"color\": \"red\"})"
   ]
  },
  {
   "cell_type": "markdown",
   "id": "ee5c3114",
   "metadata": {},
   "source": [
    "#### Difference between actual and predicted value"
   ]
  },
  {
   "cell_type": "code",
   "execution_count": 39,
   "id": "0d79a06f",
   "metadata": {},
   "outputs": [
    {
     "data": {
      "text/html": [
       "<div>\n",
       "<style scoped>\n",
       "    .dataframe tbody tr th:only-of-type {\n",
       "        vertical-align: middle;\n",
       "    }\n",
       "\n",
       "    .dataframe tbody tr th {\n",
       "        vertical-align: top;\n",
       "    }\n",
       "\n",
       "    .dataframe thead th {\n",
       "        text-align: right;\n",
       "    }\n",
       "</style>\n",
       "<table border=\"1\" class=\"dataframe\">\n",
       "  <thead>\n",
       "    <tr style=\"text-align: right;\">\n",
       "      <th></th>\n",
       "      <th>Actual</th>\n",
       "      <th>Predicted</th>\n",
       "      <th>Difference</th>\n",
       "    </tr>\n",
       "  </thead>\n",
       "  <tbody>\n",
       "    <tr>\n",
       "      <th>521</th>\n",
       "      <td>91</td>\n",
       "      <td>72.256554</td>\n",
       "      <td>18.743446</td>\n",
       "    </tr>\n",
       "    <tr>\n",
       "      <th>737</th>\n",
       "      <td>53</td>\n",
       "      <td>51.827824</td>\n",
       "      <td>1.172176</td>\n",
       "    </tr>\n",
       "    <tr>\n",
       "      <th>740</th>\n",
       "      <td>80</td>\n",
       "      <td>79.382545</td>\n",
       "      <td>0.617455</td>\n",
       "    </tr>\n",
       "    <tr>\n",
       "      <th>660</th>\n",
       "      <td>74</td>\n",
       "      <td>73.846962</td>\n",
       "      <td>0.153038</td>\n",
       "    </tr>\n",
       "    <tr>\n",
       "      <th>411</th>\n",
       "      <td>84</td>\n",
       "      <td>84.875084</td>\n",
       "      <td>-0.875084</td>\n",
       "    </tr>\n",
       "  </tbody>\n",
       "</table>\n",
       "</div>"
      ],
      "text/plain": [
       "     Actual  Predicted  Difference\n",
       "521      91  72.256554   18.743446\n",
       "737      53  51.827824    1.172176\n",
       "740      80  79.382545    0.617455\n",
       "660      74  73.846962    0.153038\n",
       "411      84  84.875084   -0.875084"
      ]
     },
     "execution_count": 39,
     "metadata": {},
     "output_type": "execute_result"
    }
   ],
   "source": [
    "pred_df=pd.DataFrame({'Actual': y_test, 'Predicted': y_pred_test,'Difference': y_test - y_pred_test})\n",
    "pred_df.head()"
   ]
  },
  {
   "cell_type": "code",
   "execution_count": null,
   "id": "1c0644df",
   "metadata": {},
   "outputs": [],
   "source": []
  }
 ],
 "metadata": {
  "language_info": {
   "name": "python"
  }
 },
 "nbformat": 4,
 "nbformat_minor": 5
}
